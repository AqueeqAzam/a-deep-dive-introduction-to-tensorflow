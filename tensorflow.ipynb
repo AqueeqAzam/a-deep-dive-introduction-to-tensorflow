{
  "nbformat": 4,
  "nbformat_minor": 0,
  "metadata": {
    "colab": {
      "provenance": [],
      "authorship_tag": "ABX9TyM7vJq/ScTI4rWTd/fg1OqC",
      "include_colab_link": true
    },
    "kernelspec": {
      "name": "python3",
      "display_name": "Python 3"
    },
    "language_info": {
      "name": "python"
    }
  },
  "cells": [
    {
      "cell_type": "markdown",
      "metadata": {
        "id": "view-in-github",
        "colab_type": "text"
      },
      "source": [
        "<a href=\"https://colab.research.google.com/github/AqueeqAzam/a-deep-dive-introduction-to-tensorflow/blob/main/tensorflow.ipynb\" target=\"_parent\"><img src=\"https://colab.research.google.com/assets/colab-badge.svg\" alt=\"Open In Colab\"/></a>"
      ]
    },
    {
      "cell_type": "markdown",
      "source": [
        "# `Tensorflow version`"
      ],
      "metadata": {
        "id": "hEG6jtazgvsB"
      }
    },
    {
      "cell_type": "code",
      "source": [
        "import tensorflow as tf\n",
        "print(tf.__version__)\n"
      ],
      "metadata": {
        "colab": {
          "base_uri": "https://localhost:8080/"
        },
        "id": "3HomnRkOgtnL",
        "outputId": "5ac54db1-2262-4ae6-96f1-5fe2c6868e8c"
      },
      "execution_count": null,
      "outputs": [
        {
          "output_type": "stream",
          "name": "stdout",
          "text": [
            "2.15.0\n"
          ]
        }
      ]
    },
    {
      "cell_type": "markdown",
      "source": [
        "# `Creating Scaler`"
      ],
      "metadata": {
        "id": "N8Qmo8omhKfl"
      }
    },
    {
      "cell_type": "code",
      "source": [
        "import tensorflow as tf\n",
        "scaler = tf.constant(7)\n",
        "scaler\n",
        "\n",
        "# changable tensor\n",
        "# This class is used to define tensors that can be updated during training or computations.\n",
        "# Weights and biases in neural networks are typically variables that get adjusted during training.\n",
        "change_tensor = tf.Variable([10, 4])\n",
        "\n",
        "# Their values cannot be changed after creation. Defining fixed weights and biases in neural networks.\n",
        "# Avoid accidental modifications during training.\n",
        "unchange_tensor = tf.constant([10, 4])\n",
        "change_tensor, unchange_tensor\n",
        "\n",
        "# assign value\n",
        "change_tensor[0].assign(7)\n",
        "change_tensor\n"
      ],
      "metadata": {
        "colab": {
          "base_uri": "https://localhost:8080/"
        },
        "id": "zxE_gRybhRJc",
        "outputId": "0b236aa9-1fbe-4ced-db30-47f0ef1afd4e"
      },
      "execution_count": null,
      "outputs": [
        {
          "output_type": "execute_result",
          "data": {
            "text/plain": [
              "<tf.Variable 'Variable:0' shape=(2,) dtype=int32, numpy=array([7, 4], dtype=int32)>"
            ]
          },
          "metadata": {},
          "execution_count": 24
        }
      ]
    },
    {
      "cell_type": "markdown",
      "source": [
        "# `Creating vector`"
      ],
      "metadata": {
        "id": "BMEjsq9PiYuB"
      }
    },
    {
      "cell_type": "code",
      "source": [
        "import tensorflow as tf\n",
        "\n",
        "# Constant 1-D Tensor from a python list.\n",
        "\n",
        "vector = tf.constant([10, 20, 78, 89])\n",
        "vector\n",
        "\n",
        "# check dimension\n",
        "vector.ndim"
      ],
      "metadata": {
        "colab": {
          "base_uri": "https://localhost:8080/"
        },
        "id": "FkVqa1Kcib7l",
        "outputId": "b1d695f5-6d9b-4f2a-f04f-4d9ddfae2671"
      },
      "execution_count": null,
      "outputs": [
        {
          "output_type": "execute_result",
          "data": {
            "text/plain": [
              "1"
            ]
          },
          "metadata": {},
          "execution_count": 6
        }
      ]
    },
    {
      "cell_type": "markdown",
      "source": [
        "# `Create matrix`\n",
        "\n",
        "A two-dimensional rectangular array of numbers, arranged in rows and columns.\n",
        "\n",
        "Linear algebra, solving systems of equations, representing geometric transformations, image processing (when using pixel intensities)."
      ],
      "metadata": {
        "id": "JCsy4SHCjElB"
      }
    },
    {
      "cell_type": "code",
      "source": [
        "import tensorflow as tf\n",
        "matrix = tf.constant([[12, 5],\n",
        "                      [45, 3]])\n",
        "matrix\n",
        "\n",
        "matrix.ndim"
      ],
      "metadata": {
        "colab": {
          "base_uri": "https://localhost:8080/"
        },
        "id": "5PjitcoKjHwU",
        "outputId": "9a954003-ae8b-4559-8ab9-084094c05996"
      },
      "execution_count": null,
      "outputs": [
        {
          "output_type": "execute_result",
          "data": {
            "text/plain": [
              "2"
            ]
          },
          "metadata": {},
          "execution_count": 11
        }
      ]
    },
    {
      "cell_type": "markdown",
      "source": [
        "# `Create tensor`\n",
        "\n",
        " A generalization of matrices. They can be multi-dimensional arrays of any data type (numbers, strings, booleans, etc.).\n",
        "\n",
        " Deep learning, machine learning, signal processing, scientific computing (where multi-dimensional data is common)."
      ],
      "metadata": {
        "id": "y46ihzLWkEUR"
      }
    },
    {
      "cell_type": "code",
      "source": [
        "tensor = tf.constant([[[1, 2, 3],\n",
        "                       [4, 5, 6],\n",
        "                       [7, 8, 9],\n",
        "                       [10, 11, 12],\n",
        "                       [13, 14, 15]]])\n",
        "tensor\n",
        "tensor.ndim\n",
        "tensor.shape\n",
        "tensor.dtype\n"
      ],
      "metadata": {
        "colab": {
          "base_uri": "https://localhost:8080/"
        },
        "id": "PKzwm2nRkJdf",
        "outputId": "ed1ee2e5-e1b6-4152-c429-e033ec0167d4"
      },
      "execution_count": null,
      "outputs": [
        {
          "output_type": "execute_result",
          "data": {
            "text/plain": [
              "TensorShape([1, 5, 3])"
            ]
          },
          "metadata": {},
          "execution_count": 16
        }
      ]
    },
    {
      "cell_type": "markdown",
      "source": [
        "# `Create random tensor`"
      ],
      "metadata": {
        "id": "gU1Ff67tlJph"
      }
    },
    {
      "cell_type": "code",
      "source": [
        "import tensorflow as tf\n",
        "\n",
        "# Create a generator object with seed 10\n",
        "random_1 = tf.random.Generator.from_seed(42)\n",
        "\n",
        "# Generate some random numbers\n",
        "random_1 = random_1.normal(shape=(3, 2))\n",
        "random_1\n",
        "\n",
        "random_2 = tf.random.Generator.from_seed(32)\n",
        "random_2 = random_2.normal(shape=(3, 2))\n",
        "random_2\n",
        "\n",
        "# check equality\n",
        "random_1 == random_2"
      ],
      "metadata": {
        "colab": {
          "base_uri": "https://localhost:8080/"
        },
        "id": "1JVohbxGn_zu",
        "outputId": "cfa89da2-cebc-4145-f76b-1c82e76c9cb7"
      },
      "execution_count": null,
      "outputs": [
        {
          "output_type": "execute_result",
          "data": {
            "text/plain": [
              "<tf.Tensor: shape=(3, 2), dtype=float32, numpy=\n",
              "array([[ 0.7901182,  1.585549 ],\n",
              "       [ 0.4356279,  0.2364518],\n",
              "       [-0.1589871,  1.302304 ]], dtype=float32)>"
            ]
          },
          "metadata": {},
          "execution_count": 29
        }
      ]
    },
    {
      "cell_type": "markdown",
      "source": [
        "# `Shuffle the order`"
      ],
      "metadata": {
        "id": "lG37kkEKqHNR"
      }
    },
    {
      "cell_type": "code",
      "source": [
        "import tensorflow as tf\n",
        "\n",
        "not_suffled = tf.constant([[10, 4],\n",
        "                           [12, 5]])\n",
        "not_suffled\n",
        "\n",
        "suffled = tf.random.shuffle(not_suffled)\n",
        "suffled\n",
        "\n",
        "# random result\n",
        "tf.random.shuffle(not_suffled, seed=42)"
      ],
      "metadata": {
        "colab": {
          "base_uri": "https://localhost:8080/"
        },
        "id": "CD6dGWCGqLMY",
        "outputId": "8f19bb45-d817-4b59-aac4-50b5a67aa7c4"
      },
      "execution_count": null,
      "outputs": [
        {
          "output_type": "execute_result",
          "data": {
            "text/plain": [
              "<tf.Tensor: shape=(2, 2), dtype=int32, numpy=\n",
              "array([[12,  5],\n",
              "       [10,  4]], dtype=int32)>"
            ]
          },
          "metadata": {},
          "execution_count": 35
        }
      ]
    },
    {
      "cell_type": "markdown",
      "source": [
        "# `Other ways to create tensor`"
      ],
      "metadata": {
        "id": "_u8putLvsP7Y"
      }
    },
    {
      "cell_type": "code",
      "source": [
        "import tensorflow as tf\n",
        "\n",
        "# for 1-dim\n",
        "tf.zeros(2)\n",
        "tf.ones(5)\n",
        "\n",
        "# for n-dim\n",
        "tf.zeros([10, 4])\n",
        "tf.ones([12, 3])"
      ],
      "metadata": {
        "id": "OBp8x-TFrG-r"
      },
      "execution_count": null,
      "outputs": []
    },
    {
      "cell_type": "markdown",
      "source": [
        "# `Turn numpy array to tensor`\n",
        "\n",
        "tensor run much faster then numpy array"
      ],
      "metadata": {
        "id": "SwMFwez8tBIh"
      }
    },
    {
      "source": [
        "import numpy as np\n",
        "import tensorflow as tf\n",
        "\n",
        "numpy_A = np.arange(1, 7, dtype=np.int32) # Changed the range to have 6 elements\n",
        "numpy_A\n",
        "\n",
        "# change into tensor\n",
        "change_tensor = tf.constant(numpy_A)\n",
        "change_tensor\n",
        "\n",
        "# change into tensor with shape\n",
        "change_tensor = tf.constant(numpy_A, shape=(2, 3)) # Now the shape is compatible\n",
        "change_tensor"
      ],
      "cell_type": "code",
      "metadata": {
        "colab": {
          "base_uri": "https://localhost:8080/"
        },
        "id": "l79LKBCwvAIN",
        "outputId": "01ab7937-1b68-4c56-e7ae-1a6f682c073f"
      },
      "execution_count": null,
      "outputs": [
        {
          "output_type": "execute_result",
          "data": {
            "text/plain": [
              "<tf.Tensor: shape=(2, 3), dtype=int32, numpy=\n",
              "array([[1, 2, 3],\n",
              "       [4, 5, 6]], dtype=int32)>"
            ]
          },
          "metadata": {},
          "execution_count": 47
        }
      ]
    },
    {
      "cell_type": "markdown",
      "source": [
        "# `Getting info from tensor`"
      ],
      "metadata": {
        "id": "QCOiIO8JyJgN"
      }
    },
    {
      "cell_type": "code",
      "source": [
        "import tensorflow as tf\n",
        "\n",
        "# creating rank 4 tesnor (4-dim array)\n",
        "rank_tensor = tf.zeros([1, 2, 3, 4])\n",
        "\n",
        "rank_tensor\n",
        "\n",
        "# Datatype of every elements\n",
        "rank_tensor.dtype\n",
        "\n",
        "# Shape of tensor\n",
        "rank_tensor.shape\n",
        "\n",
        "# Dimension of tensor (rank)\n",
        "rank_tensor.ndim\n",
        "\n",
        "# Total number of elemenst in tensor\n",
        "tf.size(rank_tensor)\n",
        "\n",
        "# Elements along 0 axis\n",
        "rank_tensor.shape[0]\n"
      ],
      "metadata": {
        "colab": {
          "base_uri": "https://localhost:8080/"
        },
        "id": "Km22wZm6yNmf",
        "outputId": "bfbad1c2-8b19-473b-c792-3aed09b782eb"
      },
      "execution_count": null,
      "outputs": [
        {
          "output_type": "execute_result",
          "data": {
            "text/plain": [
              "1"
            ]
          },
          "metadata": {},
          "execution_count": 53
        }
      ]
    },
    {
      "cell_type": "markdown",
      "source": [
        "# `Indexing tensor`"
      ],
      "metadata": {
        "id": "DtkjLO6a17gk"
      }
    },
    {
      "cell_type": "code",
      "source": [
        "import tensorflow as tf\n",
        "\n",
        "tensor_list = [1, 2, 3, 4]\n",
        "\n",
        "# Convert the list to a tensor:\n",
        "tensor = tf.constant(tensor_list)\n",
        "tensor\n",
        "\n",
        "# Get the first 2 elements from the tensor:\n",
        "first_two = tensor[:2]\n",
        "first_two\n",
        "\n",
        "# Get the last 2 elements from the tensor:\n",
        "last_two = tensor[2:]\n",
        "last_two\n",
        "\n",
        "# Get every other element from the tensor:\n",
        "every_other = tensor[::2]\n",
        "every_other\n",
        "\n",
        "# Reverse the tensor:\n",
        "reversed_tensor = tensor[::-1]\n",
        "reversed_tensor\n",
        "# Now you can slice the tensor:\n",
        "result = tensor[:2]\n",
        "print(result)"
      ],
      "metadata": {
        "colab": {
          "base_uri": "https://localhost:8080/"
        },
        "id": "kVGOv4MO1-m_",
        "outputId": "384f6b43-49cd-4e88-81fd-224ea7f51611"
      },
      "execution_count": null,
      "outputs": [
        {
          "output_type": "stream",
          "name": "stdout",
          "text": [
            "tf.Tensor([1 2], shape=(2,), dtype=int32)\n"
          ]
        }
      ]
    },
    {
      "cell_type": "markdown",
      "source": [
        "# `Basic Operations`"
      ],
      "metadata": {
        "id": "fHUZ05WW46Es"
      }
    },
    {
      "cell_type": "code",
      "source": [
        "import tensorflow as tf\n",
        "\n",
        "tensor = tf.constant([[10, 7], [3, 4]], dtype=tf.float32)\n",
        "add = tensor + 10\n",
        "add\n",
        "\n",
        "# alternative\n",
        "tf.math.add(tensor, 10)\n",
        "\n",
        "tf.math.add(25,4)\n",
        "\n",
        "sub = tensor - 10\n",
        "sub\n",
        "\n",
        "mul = tensor * 10\n",
        "mul\n",
        "\n",
        "div = tensor / 10\n",
        "div\n",
        "\n",
        "mod = tensor % 10\n",
        "mod\n",
        "\n",
        "exp = tensor ** 0\n",
        "exp\n",
        "\n",
        "exp = tf.math.exp(tensor, 2)\n",
        "exp\n",
        "\n",
        "log = tf.math.log(tensor, 2)\n",
        "log\n",
        "\n",
        "# find square\n",
        "sqrt = tf.math.sqrt(tensor, 2)\n",
        "sqrt\n",
        "\n",
        "# find range\n",
        "ran = tf.range(1, 10)\n",
        "ran\n",
        "\n",
        "# find square root\n",
        "sqrt_root = tf.math.sqrt(tf.cast(ran, dtype=tf.float32))\n",
        "sqrt_root\n"
      ],
      "metadata": {
        "colab": {
          "base_uri": "https://localhost:8080/"
        },
        "id": "zELFWDSb5A0d",
        "outputId": "86e33efa-9778-4aac-bb8e-2a69b428ca12"
      },
      "execution_count": null,
      "outputs": [
        {
          "output_type": "execute_result",
          "data": {
            "text/plain": [
              "<tf.Tensor: shape=(9,), dtype=float32, numpy=\n",
              "array([1.       , 1.4142135, 1.7320508, 2.       , 2.236068 , 2.4494898,\n",
              "       2.6457512, 2.828427 , 3.       ], dtype=float32)>"
            ]
          },
          "metadata": {},
          "execution_count": 46
        }
      ]
    },
    {
      "cell_type": "markdown",
      "source": [
        "# `Default Datatypes`"
      ],
      "metadata": {
        "id": "qf9aEilcfzwV"
      }
    },
    {
      "cell_type": "code",
      "source": [
        "import tensorflow as tf\n",
        "\n",
        "d_f = tf.constant([1.5, 7.3])\n",
        "d_f.dtype\n",
        "\n",
        "d_r = tf.constant([4, 10])\n",
        "d_r.dtype\n",
        "\n",
        "# change float32 to float16\n",
        "\n",
        "d_f = tf.cast(d_f, dtype=tf.float16)\n",
        "d_f\n",
        "\n"
      ],
      "metadata": {
        "id": "sdS13J6v5STY",
        "colab": {
          "base_uri": "https://localhost:8080/"
        },
        "outputId": "e71632fc-d159-4df9-85b4-f648f811f4b0"
      },
      "execution_count": null,
      "outputs": [
        {
          "output_type": "execute_result",
          "data": {
            "text/plain": [
              "<tf.Tensor: shape=(2,), dtype=float16, numpy=array([1.5, 7.3], dtype=float16)>"
            ]
          },
          "metadata": {},
          "execution_count": 8
        }
      ]
    },
    {
      "cell_type": "markdown",
      "source": [
        "# `Arranging tensor`"
      ],
      "metadata": {
        "id": "nHu-IBaxh3-6"
      }
    },
    {
      "cell_type": "code",
      "source": [
        "import tensorflow as tf\n",
        "import numpy as np\n",
        "\n",
        "# get abs value\n",
        "a = tf.constant([-1, -7])\n",
        "a_v = tf.abs(a)\n",
        "a_v\n",
        "\n",
        "# create random tensor between 0 to 100 of size 50\n",
        "random_tensor = tf.constant(np.random.randint(0, 100, size=50))\n",
        "random_tensor\n",
        "\n",
        "# find size\n",
        "tf.size(random_tensor)\n",
        "random_tensor.size\n",
        "\n",
        "# find shape\n",
        "tf.shape(random_tensor)\n",
        "random_tensor.shape\n",
        "\n",
        "# find dimension\n",
        "random_tensor.ndim\n",
        "\n",
        "# find min\n",
        "tf.reduce_min(random_tensor)\n",
        "\n",
        "# find max\n",
        "tf.reduce_max(random_tensor)\n",
        "\n",
        "# find mean\n",
        "tf.reduce_mean(random_tensor)\n",
        "\n",
        "# find sum\n",
        "tf.reduce_sum(random_tensor)\n",
        "\n",
        "# find standard deviation\n",
        "tf.math.reduce_std(random_tensor)\n",
        "\n",
        "# find variance\n",
        "tf.math.reduce_variance(random_tensor)"
      ],
      "metadata": {
        "colab": {
          "base_uri": "https://localhost:8080/"
        },
        "id": "r9uIOZASh8Zc",
        "outputId": "3f823b77-ad75-4fb8-c592-7410e7a5d3e0"
      },
      "execution_count": null,
      "outputs": [
        {
          "output_type": "execute_result",
          "data": {
            "text/plain": [
              "TensorShape([50])"
            ]
          },
          "metadata": {},
          "execution_count": 28
        }
      ]
    },
    {
      "cell_type": "markdown",
      "source": [
        "# `Tensor troubleshooting`"
      ],
      "metadata": {
        "id": "dRzJg82_lEzA"
      }
    },
    {
      "cell_type": "code",
      "source": [
        "import tensorflow_probability as tfp\n",
        "\n",
        "# find variance of tensor\n",
        "tfp.stats.variance(random_tensor)\n",
        "\n",
        "# find standard deviation\n",
        "std_dev = tf.math.reduce_std(tf.cast(random_tensor, dtype=tf.float32))\n",
        "std_dev\n",
        "\n",
        "# find variance\n",
        "var = tf.math.reduce_variance(tf.cast(random_tensor, dtype=tf.float32))\n",
        "var\n",
        "\n",
        "# find positional min and max\n",
        "tf.random.set_seed(42)\n",
        "F = tf.random.uniform(shape=[50])\n",
        "F\n",
        "\n",
        "# find postional max\n",
        "tf.argmax(random_tensor)\n",
        "\n",
        "# find postional min\n",
        "tf.argmin(random_tensor)\n",
        "\n"
      ],
      "metadata": {
        "id": "6EmU0z5lj5LY"
      },
      "execution_count": null,
      "outputs": []
    },
    {
      "cell_type": "markdown",
      "source": [
        "# `Squeezing tensor`"
      ],
      "metadata": {
        "id": "TZM0BP-MpDbv"
      }
    },
    {
      "cell_type": "code",
      "source": [
        "import tensorflow as tf\n",
        "\n",
        "G = tf.constant(tf.random.uniform(shape=[50]), shape=(1, 1, 1, 50))\n",
        "G"
      ],
      "metadata": {
        "id": "Br0c5zEEpH3w"
      },
      "execution_count": null,
      "outputs": []
    },
    {
      "cell_type": "markdown",
      "source": [
        "# `One Hot Encoding`"
      ],
      "metadata": {
        "id": "rIGYSd_sp88s"
      }
    },
    {
      "cell_type": "code",
      "source": [
        "import tensorstore as ts\n",
        "import tensorflow as tf\n",
        "\n",
        "some_list = [0, 1, 2, 3] # could red, green, blue, purple\n",
        "\n",
        "tf.one_hot(some_list, depth=4)\n",
        "\n",
        "# specify custom values for one hot encoding\n",
        "tf.one_hot(some_list, depth=4, on_value=\"I like tensorflow\", off_value=\"for deep learning\")\n"
      ],
      "metadata": {
        "id": "mHnW9cBJqBgG"
      },
      "execution_count": null,
      "outputs": []
    },
    {
      "cell_type": "markdown",
      "source": [
        "# `Tensor and Numpy`"
      ],
      "metadata": {
        "id": "QBwAFAQNt-2j"
      }
    },
    {
      "cell_type": "code",
      "source": [
        "import tensorflow as tf\n",
        "import numpy as np\n",
        "\n",
        "T = tf.constant(np.array([1, 2, 3, 4, 5]))\n",
        "T\n",
        "\n",
        "# convert tenosr T to numpy array\n",
        "N = T.numpy(), type(T.numpy())\n",
        "N"
      ],
      "metadata": {
        "colab": {
          "base_uri": "https://localhost:8080/"
        },
        "id": "lbJn665fuE9E",
        "outputId": "842638b5-a5c4-4597-852d-080a472f2cb6"
      },
      "execution_count": null,
      "outputs": [
        {
          "output_type": "execute_result",
          "data": {
            "text/plain": [
              "(array([1, 2, 3, 4, 5]), numpy.ndarray)"
            ]
          },
          "metadata": {},
          "execution_count": 50
        }
      ]
    },
    {
      "cell_type": "markdown",
      "source": [
        "# Have a nice day"
      ],
      "metadata": {
        "id": "gEzz1mtCSUcF"
      }
    }
  ]
}